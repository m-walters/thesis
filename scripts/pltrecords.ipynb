{
 "cells": [
  {
   "cell_type": "code",
   "execution_count": 1,
   "metadata": {
    "collapsed": true
   },
   "outputs": [],
   "source": [
    "import numpy as np\n",
    "import matplotlib.pyplot as plt\n",
    "from matplotlib import container\n",
    "import scipy.interpolate as interp\n",
    "from matplotlib.ticker import FormatStrFormatter\n",
    "%matplotlib inline\n",
    "# plt.style.use('~/.config/matplotlib/stylelib/paper.mplstyle')"
   ]
  },
  {
   "cell_type": "code",
   "execution_count": 2,
   "metadata": {
    "collapsed": true
   },
   "outputs": [],
   "source": [
    "Nx = [1,2,4,8]\n",
    "nround = 20 # 20 for regular, 10 for mnist\n",
    "datadir = \"./records/\"\n",
    "allnames = [\"rnn\",\"rnn-k0.5\"]\n",
    "allnames += [\"th-\"+str(i) for i in Nx]\n",
    "allnames += [\"th-e0.01-\"+str(i) for i in Nx]\n",
    "allnames += [\"th-k0.5-\"+str(i) for i in Nx]\n",
    "allnames += [\"xyth-\"+str(i) for i in Nx]\n",
    "\n",
    "allnames = [\"fnn-mnist-1\",\"fnn-mnist_ordered-1\",\"mnist_lrg\"]\n",
    "nround = 5\n",
    "\n",
    "fnames = allnames"
   ]
  },
  {
   "cell_type": "code",
   "execution_count": 3,
   "metadata": {
    "collapsed": true
   },
   "outputs": [],
   "source": [
    "# Gather data\n",
    "# [epoch trnloss trnacc testloss testacc]\n",
    "data = {}\n",
    "params = {}"
   ]
  },
  {
   "cell_type": "code",
   "execution_count": 4,
   "metadata": {},
   "outputs": [
    {
     "name": "stdout",
     "output_type": "stream",
     "text": [
      "Gathering data for  fnn-mnist-1\n",
      "Gathering data for  fnn-mnist_ordered-1\n",
      "Gathering data for  mnist_lrg\n",
      "Done\n"
     ]
    }
   ],
   "source": [
    "for f in fnames:\n",
    "    print \"Gathering data for \",f\n",
    "    nepoch = -1\n",
    "    fin = open(datadir+f,'r')\n",
    "    \n",
    "    nbreak = -2\n",
    "    nep_eval = 0 # How many eps were evaluated per round\n",
    "    for line in fin.readlines():\n",
    "        if line==\"\\n\":\n",
    "            if nbreak < 0: \n",
    "                nbreak+=1\n",
    "                continue\n",
    "            else: break\n",
    "\n",
    "        l = line.split()\n",
    "        if l[0]==\"nEpoch\": nepoch = int(l[1])\n",
    "\n",
    "        if nbreak == -1:\n",
    "            nep_eval+=1\n",
    "    \n",
    "    params.update({f: \n",
    "                   {\"nepoch\": nepoch}})\n",
    "    \n",
    "    data_ = np.zeros(shape=(nround,nep_eval,4))\n",
    "    iround = -1 # first newline is counted\n",
    "    e = 0\n",
    "    fin.seek(0)\n",
    "    for line in fin.readlines():\n",
    "        if line[0].isalpha() or line[0]==\"[\": continue # newline is not alpha\n",
    "        if line==\"\\n\":\n",
    "            # Done a round\n",
    "            iround+=1\n",
    "            e = 0\n",
    "            if iround >= nround:\n",
    "                break\n",
    "            continue\n",
    "        data_[iround,e,:] = [float(x) for x in line.split()[1:]]\n",
    "        # For now we know epocheval = 1\n",
    "        e+=1\n",
    "    \n",
    "    data.update({f:data_})\n",
    "    \n",
    "    fin.close()\n",
    "print \"Done\""
   ]
  },
  {
   "cell_type": "code",
   "execution_count": 4,
   "metadata": {},
   "outputs": [
    {
     "name": "stdout",
     "output_type": "stream",
     "text": [
      "Gathering data for  th-xtud-1\n",
      "Done\n"
     ]
    }
   ],
   "source": [
    "# Gathering the special xtud compare data\n",
    "# [epoch trnloss trnacc testloss testacc xacc tacc uacc dacc]\n",
    "fnames = [\"th-xtud-1\"]\n",
    "nfields = 8\n",
    "\n",
    "data = {}\n",
    "params = {}\n",
    "for f in fnames:\n",
    "    print \"Gathering data for \",f\n",
    "    nepoch = -1\n",
    "    fin = open(datadir+f,'r')\n",
    "    \n",
    "    nbreak = -2\n",
    "    nep_eval = 0 # How many eps were evaluated per round\n",
    "    for line in fin.readlines():\n",
    "        if line==\"\\n\":\n",
    "            if nbreak < 0: \n",
    "                nbreak+=1\n",
    "                continue\n",
    "            else: break\n",
    "\n",
    "        l = line.split()\n",
    "        if l[0]==\"nEpoch\": nepoch = int(l[1])\n",
    "\n",
    "        if nbreak == -1:\n",
    "            nep_eval+=1\n",
    "    \n",
    "    params.update({f: \n",
    "                   {\"nepoch\": nepoch}})\n",
    "    \n",
    "    data_ = np.zeros(shape=(nround,nep_eval,nfields))\n",
    "    iround = -1 # first newline is counted\n",
    "    e = 0\n",
    "    fin.seek(0)\n",
    "    for line in fin.readlines():\n",
    "        if line[0].isalpha() or line[0]==\"[\": continue # newline is not alpha\n",
    "        if line==\"\\n\":\n",
    "            # Done a round\n",
    "            iround+=1\n",
    "            e = 0\n",
    "            continue\n",
    "        data_[iround,e,:] = [float(x) for x in line.split()[1:]]\n",
    "        # For now we know epocheval = 1\n",
    "        e+=1\n",
    "    \n",
    "    data.update({f:data_})\n",
    "    \n",
    "    fin.close()\n",
    "print \"Done\"\n"
   ]
  },
  {
   "cell_type": "code",
   "execution_count": 5,
   "metadata": {},
   "outputs": [
    {
     "name": "stdout",
     "output_type": "stream",
     "text": [
      "Done\n"
     ]
    }
   ],
   "source": [
    "# Stat analysis on data\n",
    "means = {}\n",
    "stds = {}\n",
    "# for nx in data:\n",
    "for f in fnames:\n",
    "    st = f\n",
    "    dat = data[st]\n",
    "    means_ = np.zeros(shape=dat[0].shape)\n",
    "    means_ = np.mean(dat,axis=0)\n",
    "    means.update({str(st): means_})\n",
    "    \n",
    "    stds_ = np.zeros(shape=dat[0].shape)\n",
    "    stds_ = np.std(dat,axis=0)\n",
    "    stds.update({st: stds_})\n",
    "print \"Done\""
   ]
  },
  {
   "cell_type": "code",
   "execution_count": 23,
   "metadata": {},
   "outputs": [
    {
     "data": {
      "text/plain": [
       "[u'Helvetica']"
      ]
     },
     "execution_count": 23,
     "metadata": {},
     "output_type": "execute_result"
    }
   ],
   "source": [
    "plt.rcParams['font.sans-serif']"
   ]
  },
  {
   "cell_type": "code",
   "execution_count": 7,
   "metadata": {
    "collapsed": true
   },
   "outputs": [],
   "source": [
    "import seaborn as sns\n",
    "import itertools\n",
    "sns.set()\n",
    "sns.set_palette(\"Blues\")\n",
    "sns.set_style(\"white\")\n",
    "S = sns.set_style(\"ticks\",{\"xtick.major.size\":0.8,\"ytick.major.size\":0.8})\n",
    "sns.set_style({\"xtick.direction\": \"in\",\"ytick.direction\": \"in\"})\n",
    "palette = itertools.cycle(sns.color_palette())\n"
   ]
  },
  {
   "cell_type": "code",
   "execution_count": 8,
   "metadata": {},
   "outputs": [
    {
     "data": {
      "image/png": "[encoded data removed]",
      "text/plain": [
       "<matplotlib.figure.Figure at 0x2b24e158f310>"
      ]
     },
     "metadata": {},
     "output_type": "display_data"
    }
   ],
   "source": [
    "st = \"Blues\"\n",
    "sns.set_palette(st)\n",
    "pal = sns.color_palette(st,10)\n",
    "palette = itertools.cycle(sns.color_palette())\n",
    "# next(palette)\n",
    "sns.palplot(pal)"
   ]
  },
  {
   "cell_type": "code",
   "execution_count": 46,
   "metadata": {},
   "outputs": [
    {
     "name": "stdout",
     "output_type": "stream",
     "text": [
      "0 fnn-mnist-1\n",
      "1 fnn-mnist_ordered-1\n",
      "2 mnist_lrg\n"
     ]
    }
   ],
   "source": [
    "for n in range(len(allnames)):\n",
    "    print n, allnames[n]"
   ]
  },
  {
   "cell_type": "code",
   "execution_count": 9,
   "metadata": {
    "collapsed": true
   },
   "outputs": [],
   "source": [
    "chosens = [0,2]\n",
    "bRNN = False\n",
    "\n",
    "markers = [(3,0,0),(4,0,0),(5,0,0),(6,0,0)]\n",
    "markers = ['o','s','>','d']\n",
    "legnames = [r'm=1',\n",
    "            r'm=2',\n",
    "            r'm=4',\n",
    "            r'm=8'\n",
    "           ]\n",
    "# legnames = ['RNN',\n",
    "#             r'$xy\\theta_{1\\times 1}$',\n",
    "#             r'$xy\\theta_{2\\times 2}$'\n",
    "#            ]\n",
    "legnames = ['FNN',\n",
    "            'RNN',\n",
    "           ]\n",
    "# legnames = ['RNN']\n",
    "pltnames = []\n",
    "for i in chosens:\n",
    "    pltnames.append(allnames[i])\n",
    "lennx = len(pltnames)\n",
    "# 0.,1.0 -> 0.8,0.1\n",
    "colalph = 0.7\n",
    "colors = [(0.8,0.8*((float(x)/lennx)),1.-0.9*(float(x)/lennx)) for x in range(lennx)]\n",
    "# colors = ['w','r']\n",
    "erralph = 0.15\n",
    "\n",
    "coldict,markdict,legdict = {},{},{}\n",
    "for i in range(lennx):\n",
    "    n = pltnames[i]\n",
    "    coldict.update({n:next(palette)})\n",
    "    markdict.update({n:markers[i]})\n",
    "    legdict.update({n:legnames[i]})"
   ]
  },
  {
   "cell_type": "code",
   "execution_count": 12,
   "metadata": {
    "collapsed": true
   },
   "outputs": [],
   "source": [
    "coldict[allnames[0]] = \"w\"\n",
    "coldict[allnames[2]] = (1,0,0)"
   ]
  },
  {
   "cell_type": "code",
   "execution_count": 36,
   "metadata": {
    "collapsed": true
   },
   "outputs": [],
   "source": [
    "coldict[\"rnn\"] = (1,0,0)"
   ]
  },
  {
   "cell_type": "code",
   "execution_count": 13,
   "metadata": {
    "scrolled": false
   },
   "outputs": [
    {
     "data": {
      "image/png": "[encoded data removed]",
      "text/plain": [
       "<matplotlib.figure.Figure at 0x2b24e83f38d0>"
      ]
     },
     "metadata": {},
     "output_type": "display_data"
    }
   ],
   "source": [
    "plt.style.use('~/.config/matplotlib/stylelib/paper.mplstyle')\n",
    "# minorLocator = AutoMinorLocator()\n",
    "\n",
    "m = 1.0\n",
    "figsize = (5*m,6*m) # increase figure size to make things look smaller\n",
    "dpi = 100 # increase dpi to make things look bigger BUT only here\n",
    "# since i'm doing pdf, it really doesn't matter what dpi I choose\n",
    "capsize=3\n",
    "\n",
    "# plt.rc('lines',markersize=8)\n",
    "# plt.rc('font',family='sans-serif')\n",
    "# plt.rc('font',sans-serif=\"Helvetica\")\n",
    "plt.rcParams.update({\n",
    "    'font.family' : 'sans-serif',\n",
    "    'font.sans-serif' : ['Helvetica'],\n",
    "    'lines.markersize' : 7,\n",
    "    'legend.fontsize' : 10,\n",
    "    })\n",
    "f, ax = plt.subplots(2,1,figsize=figsize,dpi=dpi)\n",
    "\n",
    "\n",
    "for run in pltnames:\n",
    "# for nx in Nx:\n",
    "    mev = 1\n",
    "    nepoch = params[run][\"nepoch\"]\n",
    "    x = np.arange(1,nepoch+1,nepoch//(len(means[run])))\n",
    "    end = len(x)//2 #-1 for all\n",
    "    spidx = [0,2,4,6,7,10,20,30,48]\n",
    "\n",
    "    if run == \"fnn-mnist-1\":\n",
    "        mev = 2\n",
    "        end = -1\n",
    "    if run == \"mnist_lrg\":\n",
    "        spidx = [0,1,2,3,4,8,14,19]\n",
    "    x = x[0:end]\n",
    "    \n",
    "    y0 = means[run][:,2][0:end]\n",
    "    y0m = means[run][:,2]-stds[run][:,2]\n",
    "    y0p = means[run][:,2]+stds[run][:,2]\n",
    "    y1 = means[run][:,3][0:end]\n",
    "    y1m = means[run][:,3]-stds[run][:,3]\n",
    "    y1p = means[run][:,3]+stds[run][:,3]\n",
    "    \n",
    "    y0err = stds[run][:,2][0:end]\n",
    "    y1err = stds[run][:,3][0:end]\n",
    "    \n",
    "#     splgap = 10\n",
    "#     spx = np.linspace(x[0],x[-1],200)\n",
    "#     spl0 = interp.splrep(x[spidx],y0[spidx],k=3)\n",
    "#     spl1 = interp.splrep(x[spidx],y1[spidx],k=3)\n",
    "    \n",
    "#     y0_sp = interp.splev(spx,spl0)\n",
    "#     y1_sp = interp.splev(spx,spl1)\n",
    "\n",
    "#     ax[0].plot(spx,y0_sp,'k',alpha=0.7)\n",
    "    fc = coldict[run]\n",
    "    ax[0].errorbar(x,y0,yerr=y0err,linestyle=\"-\",color='k',\n",
    "                   marker=markdict[run],label=legdict[run],\n",
    "                   errorevery=mev,markevery=mev,\n",
    "                   mfc=fc,mec=\"k\",ecolor=\"k\",capsize=capsize)\n",
    "\n",
    "#     ax[1].plot(spx,y1_sp,'k',alpha=0.7)\n",
    "    ax[1].errorbar(x,y1,yerr=y1err,linestyle=\"-\",color='k',\n",
    "                   marker=markdict[run],label=legdict[run],\n",
    "                   errorevery=mev,markevery=mev,\n",
    "                   mfc=fc,mec=\"k\",ecolor=\"k\",capsize=capsize)\n",
    "\n",
    "    i+=1\n",
    "\n",
    "f.subplots_adjust(hspace=0.1)\n",
    "ax[1].set_xlabel(\"Epoch\")\n",
    "ax[0].set_ylabel(\"Cost function  S\")\n",
    "ax[1].set_ylabel(\"Accuracy  A\")\n",
    "\n",
    "if bRNN:\n",
    "    _ = ax[0].set_xlim(0,50)\n",
    "    ax[0].tick_params(axis='x',labelbottom='off')\n",
    "    _ = ax[0].set_ylim(0,1.5)\n",
    "    _ = ax[0].set_yticks(np.linspace(0,1.5,4))\n",
    "    ax[0].tick_params(axis='both',which='both',direction='in')\n",
    "\n",
    "    _ = ax[1].set_xticks(np.arange(0,51,10))\n",
    "    _ = ax[1].set_xlim(0,50)\n",
    "    _ = ax[1].set_ylim(ymax=1.0,ymin=0.)\n",
    "    _ = ax[1].set_yticks(np.linspace(0,1,6))\n",
    "    ax[1].tick_params(axis='both',which='both',direction='in')\n",
    "\n",
    "    ax[0].text(.12,.84,'(c) RNN',\n",
    "        horizontalalignment='left',\n",
    "        transform=ax[0].transAxes)\n",
    "    ax[1].text(.12,.16,'(d) RNN',\n",
    "        horizontalalignment='left',\n",
    "        transform=ax[1].transAxes)\n",
    "\n",
    "else:\n",
    "    plt.legend()\n",
    "    ax[0].legend(ncol=1,loc=\"right\")\n",
    "    ax[1].legend(ncol=1,loc=\"right\")\n",
    "\n",
    "    ax[0].tick_params(axis='x',labelbottom=False)\n",
    "    # ax[0].set_yscale(\"log\", nonposy='mask')\n",
    "    _ = ax[0].set_xlim(0,100)\n",
    "    _ = ax[0].set_xticks(np.arange(0,101,20))\n",
    "#     _ = ax[0].set_ylim(0.04,10)\n",
    "    _ = ax[0].set_ylim(0,1.5)\n",
    "    _ = ax[0].set_ylim(0.,9.)\n",
    "#     _ = ax[0].set_yticks(np.linspace(0,1.5,4))\n",
    "\n",
    "    _ = ax[1].set_xticks(np.arange(0,101,20))\n",
    "    _ = ax[1].set_xlim(0,100)\n",
    "    _ = ax[1].set_ylim(ymax=1.0,ymin=0.)\n",
    "    _ = ax[1].set_yticks(np.linspace(0,1,6))\n",
    "\n",
    "    ax[0].text(.12,.84,'(a)',\n",
    "        horizontalalignment='left',\n",
    "        transform=ax[0].transAxes)\n",
    "    ax[1].text(.12,.3,'(b)',\n",
    "        horizontalalignment='left',\n",
    "        transform=ax[1].transAxes)\n",
    "    \n",
    "ax[0].yaxis.set_major_formatter(FormatStrFormatter('%.1f')) # add decimal place to ticklabels\n",
    "ax[1].yaxis.set_major_formatter(FormatStrFormatter('%.1f'))\n",
    "ax[0].minorticks_on()\n",
    "ax[1].minorticks_on()\n",
    "ax[0].tick_params(axis='both',which='both',direction='in')\n",
    "ax[0].tick_params(which='major', length=5)\n",
    "ax[0].tick_params(which='minor', length=3)\n",
    "ax[1].tick_params(axis='both',which='both',direction='in')\n",
    "ax[1].tick_params(which='major', length=5)\n",
    "ax[1].tick_params(which='minor', length=3)\n"
   ]
  },
  {
   "cell_type": "code",
   "execution_count": 14,
   "metadata": {},
   "outputs": [
    {
     "name": "stdout",
     "output_type": "stream",
     "text": [
      "You want to save imgs/mnist_SA?\n",
      "Saving fig\n"
     ]
    }
   ],
   "source": [
    "figname=\"imgs/mnist_SA\"\n",
    "ans = raw_input(\"You want to save \"+figname+\"?\")\n",
    "if ans != \"no\":\n",
    "    print \"Saving fig\"\n",
    "    f.savefig(figname+\".eps\",bbox_inches='tight',dpi=\"figure\")"
   ]
  },
  {
   "cell_type": "code",
   "execution_count": 23,
   "metadata": {},
   "outputs": [
    {
     "name": "stdout",
     "output_type": "stream",
     "text": [
      "You want to save imgs/FNN_SA_blue?\n",
      "Saving fig\n"
     ]
    }
   ],
   "source": [
    "figname=\"imgs/FNN_SA_blue\"\n",
    "ans = raw_input(\"You want to save \"+figname+\"?\")\n",
    "if ans != \"no\":\n",
    "    print \"Saving fig\"\n",
    "    f.savefig(figname+\".pdf\",bbox_inches='tight',dpi=\"figure\")"
   ]
  },
  {
   "cell_type": "code",
   "execution_count": 15,
   "metadata": {},
   "outputs": [
    {
     "data": {
      "image/png": "[encoded data removed]",
      "text/plain": [
       "<matplotlib.figure.Figure at 0x2b6b9d60d790>"
      ]
     },
     "metadata": {},
     "output_type": "display_data"
    }
   ],
   "source": [
    "# For plotting the Cost\n",
    "plt.style.use('~/.config/matplotlib/stylelib/paper.mplstyle')\n",
    "# minorLocator = AutoMinorLocator()\n",
    "\n",
    "m = 1.0\n",
    "figsize = (5*m,3*m) # increase figure size to make things look smaller\n",
    "dpi = 100 # increase dpi to make things look bigger BUT only here\n",
    "# since i'm doing pdf, it really doesn't matter what dpi I choose\n",
    "capsize=3\n",
    "\n",
    "# plt.rc('lines',markersize=8)\n",
    "# plt.rc('font',family='sans-serif')\n",
    "# plt.rc('font',sans-serif=\"Helvetica\")\n",
    "plt.rcParams.update({\n",
    "    'font.family' : 'sans-serif',\n",
    "    'font.sans-serif' : ['Helvetica'],\n",
    "    'lines.markersize' : 7,\n",
    "    'legend.fontsize' : 10,\n",
    "    })\n",
    "f, ax = plt.subplots(1,1,figsize=figsize,dpi=dpi)\n",
    "\n",
    "\n",
    "for run in pltnames:\n",
    "# for nx in Nx:\n",
    "    mev = 1\n",
    "    nepoch = params[run][\"nepoch\"]\n",
    "    x = np.arange(1,nepoch+1,nepoch//(len(means[run])))\n",
    "    end = len(x)//2 #-1 for all\n",
    "    spidx = [0,2,4,6,7,10,20,30,47]\n",
    "\n",
    "    if run == \"fnn-mnist_ordered-1\":\n",
    "        end = -1\n",
    "    if run == \"mnist_lrg\":\n",
    "        mev = 1\n",
    "        spidx = [0,1,2,3,4,8,14,19]\n",
    "    x = x[0:end]\n",
    "    \n",
    "    y0 = means[run][:,2][0:end]\n",
    "    y0m = means[run][:,2]-stds[run][:,2]\n",
    "    y0p = means[run][:,2]+stds[run][:,2]\n",
    "    \n",
    "    y0err = stds[run][:,2][0:end]\n",
    "  \n",
    "    splgap = 10\n",
    "    spx = np.linspace(x[0],x[-1],200)\n",
    "    spl0 = interp.splrep(x[spidx],y0[spidx],k=2)\n",
    "    \n",
    "    y0_sp = interp.splev(spx,spl0)\n",
    "\n",
    "#     ax.plot(spx,y0_sp,'k-',alpha=0.7)\n",
    "    ax.errorbar(x,y0,yerr=y0err,linestyle=\"-\",color='k',\n",
    "                   marker=markdict[run],label=legdict[run],\n",
    "                   errorevery=mev,markevery=mev,\n",
    "                   mfc=coldict[run],mec='k',capsize=capsize)\n",
    "\n",
    "handles, labels = ax.get_legend_handles_labels()\n",
    "handles = [h[0] if isinstance(h, container.ErrorbarContainer) else h for h in handles]\n",
    "\n",
    "ax.legend(handles, labels,ncol=2)\n",
    "#ax[1].legend(handles,labels,ncol=2,loc='lower right')\n",
    "plt.legend()\n",
    "ax.legend(ncol=2,loc=\"upper right\")\n",
    "\n",
    "f.subplots_adjust(hspace=0.1)\n",
    "# ax.set_xlabel(\"Epoch\")\n",
    "ax.set_ylabel(\"Cost S\")\n",
    "\n",
    "_ = ax.set_xticks(np.arange(0,101,20))\n",
    "# ax.set_xticks([])\n",
    "# ax.tick_params(axis='x',labelbottom='off')\n",
    "# ax.set_yscale(\"log\", nonposy='mask')\n",
    "_ = ax.set_yticks(np.linspace(0,1.5,4))\n",
    "_ = ax.set_xlim(0,100)\n",
    "_ = ax.set_ylim(ymax=1.5,ymin=0.)\n",
    "ax.tick_params(axis='both',which='both',direction='in')\n",
    "ax.minorticks_on()\n",
    "ax.text(.12,.85,'(a)',\n",
    "    horizontalalignment='center',\n",
    "    transform=ax.transAxes)\n",
    "\n",
    "\n",
    "ax.minorticks_on()"
   ]
  },
  {
   "cell_type": "code",
   "execution_count": 17,
   "metadata": {},
   "outputs": [
    {
     "name": "stdout",
     "output_type": "stream",
     "text": [
      "You want to save imgs/fnn_cost?\n",
      "Saving fig\n"
     ]
    }
   ],
   "source": [
    "figname=\"imgs/fnn_cost\"\n",
    "ans = raw_input(\"You want to save \"+figname+\"?\")\n",
    "if ans != \"no\":\n",
    "    print \"Saving fig\"\n",
    "    f.savefig(figname+\".eps\",bbox_inches='tight',dpi=\"figure\")"
   ]
  },
  {
   "cell_type": "code",
   "execution_count": 15,
   "metadata": {},
   "outputs": [
    {
     "data": {
      "text/plain": [
       "Text(0.12,0.15,u'(b)')"
      ]
     },
     "execution_count": 15,
     "metadata": {},
     "output_type": "execute_result"
    },
    {
     "data": {
      "image/png": "[encoded data removed]",
      "text/plain": [
       "<matplotlib.figure.Figure at 0x2af25c9e1490>"
      ]
     },
     "metadata": {},
     "output_type": "display_data"
    }
   ],
   "source": [
    "# For plotting Accuracy\n",
    "\n",
    "plt.style.use('~/.config/matplotlib/stylelib/paper.mplstyle')\n",
    "# minorLocator = AutoMinorLocator()\n",
    "\n",
    "m = 1.0\n",
    "figsize = (5*m,3*m) # increase figure size to make things look smaller\n",
    "dpi = 100 # increase dpi to make things look bigger BUT only here\n",
    "# since i'm doing pdf, it really doesn't matter what dpi I choose\n",
    "capsize=3\n",
    "\n",
    "# plt.rc('lines',markersize=8)\n",
    "# plt.rc('font',family='sans-serif')\n",
    "# plt.rc('font',sans-serif=\"Helvetica\")\n",
    "plt.rcParams.update({\n",
    "    'font.family' : 'sans-serif',\n",
    "    'font.sans-serif' : ['Helvetica'],\n",
    "    'lines.markersize' : 7,\n",
    "    'legend.fontsize' : 10,\n",
    "    })\n",
    "f, ax = plt.subplots(1,1,figsize=figsize,dpi=dpi)\n",
    "\n",
    "for run in pltnames:\n",
    "    mev = 1\n",
    "    nepoch = params[run][\"nepoch\"]\n",
    "    x = np.arange(1,nepoch+1,nepoch//(len(means[run])))\n",
    "    end = len(x)//2 #-1 for all\n",
    "    spidx = [0,2,4,6,7,10,20,30,48]\n",
    "\n",
    "    if run == \"fnn-mnist_ordered-1\":\n",
    "        end = -1\n",
    "    if run == \"mnist_lrg\":\n",
    "        mev = 1\n",
    "        spidx = [0,1,2,3,4,8,14,19]\n",
    "    x = x[0:end]\n",
    "    \n",
    "    y1 = means[run][:,3][0:end]\n",
    "    y1m = means[run][:,3]-stds[run][:,3]\n",
    "    y1p = means[run][:,3]+stds[run][:,3]\n",
    "    \n",
    "    y1err = stds[run][:,3][0:end]\n",
    "  \n",
    "    splgap = 10\n",
    "    spx = np.linspace(x[0],x[-1],200)\n",
    "    spl1 = interp.splrep(x[spidx],y1[spidx],k=2)\n",
    "    \n",
    "    y1_sp = interp.splev(spx,spl1)\n",
    "\n",
    "#     ax.plot(spx,y1_sp,'k-',alpha=0.7)\n",
    "    ax.errorbar(x,y1,yerr=y1err,linestyle=\"-\",\n",
    "                   marker=markdict[run],label=legdict[run],\n",
    "                   errorevery=mev,markevery=mev,mfc=coldict[run],mec='k',\n",
    "                   color=\"k\",capsize=capsize)\n",
    "    \n",
    "    \n",
    "handles, labels = ax.get_legend_handles_labels()\n",
    "handles = [h[0] if isinstance(h, container.ErrorbarContainer) else h for h in handles]\n",
    "\n",
    "ax.legend(handles, labels,ncol=2)\n",
    "# ax[1].legend(handles,labels,ncol=2,loc='lower right')\n",
    "plt.legend()\n",
    "ax.legend(ncol=2,loc=\"lower right\")\n",
    "\n",
    "f.subplots_adjust(hspace=0.1)\n",
    "ax.set_xlabel(\"Epoch\")\n",
    "ax.set_ylabel(\"Accuracy A\")\n",
    "\n",
    "_ = ax.set_xticks(np.arange(0,101,20))\n",
    "i=0\n",
    "\n",
    "# for tick in ax.xaxis.get_majorticklabels():\n",
    "# #     tick.set_horizontalalignment(\"right\")\n",
    "\n",
    "# _ = ax.set_xticks(np.arange(0,50,10))\n",
    "_ = ax.set_xlim(0,100)\n",
    "_ = ax.set_ylim(ymax=1.0,ymin=0.)\n",
    "_ = ax.set_yticks(np.linspace(0,1,6))\n",
    "ax.tick_params(axis='both',which='both',direction='in')\n",
    "\n",
    "ax.minorticks_on()\n",
    "ax.text(.12,.15,'(b)',\n",
    "    horizontalalignment='center',\n",
    "    transform=ax.transAxes)\n",
    "\n",
    "##############"
   ]
  },
  {
   "cell_type": "code",
   "execution_count": 20,
   "metadata": {},
   "outputs": [
    {
     "name": "stdout",
     "output_type": "stream",
     "text": [
      "You want to save imgs/fnn_acc?\n",
      "Saving fig\n"
     ]
    }
   ],
   "source": [
    "figname = \"imgs/fnn_acc\"\n",
    "ans = raw_input(\"You want to save \"+figname+\"?\")\n",
    "if ans != \"no\":\n",
    "    print \"Saving fig\"\n",
    "    f.savefig(figname+\".eps\",bbox_inches='tight',dpi=\"figure\")"
   ]
  },
  {
   "cell_type": "code",
   "execution_count": 3,
   "metadata": {
    "collapsed": true
   },
   "outputs": [],
   "source": [
    "def get_xc(pts):\n",
    "    #pts should be list of xy tuples\n",
    "    x_coords, y_coords = zip(*pts)\n",
    "    A = np.vstack([x_coords,np.ones(len(x_coords))]).T\n",
    "    m, c = np.linalg.lstsq(A, y_coords)[0]\n",
    "#     print(\"Line Solution is y = {m}x + {c}\".format(m=m,c=c))\n",
    "    \n",
    "    return (0.5-c)/m"
   ]
  },
  {
   "cell_type": "code",
   "execution_count": 7,
   "metadata": {},
   "outputs": [
    {
     "name": "stderr",
     "output_type": "stream",
     "text": [
      "/home/walterms/jupyter_py2/lib/python2.7/site-packages/ipykernel_launcher.py:5: FutureWarning: `rcond` parameter will change to the default of machine precision times ``max(M, N)`` where M and N are the input matrix dimensions.\n",
      "To use the future default and silence this warning we advise to pass `rcond=None`, to keep using the old, explicitly pass `rcond=-1`.\n",
      "  \"\"\"\n"
     ]
    },
    {
     "name": "stdout",
     "output_type": "stream",
     "text": [
      "20 6.469538926976417 6.714948926976417 6.960358926976417\n",
      "24 6.709202765271384 6.953152765271384 7.197102765271384\n",
      "28 6.837228034638458 7.082218034638458 7.327208034638457\n"
     ]
    },
    {
     "data": {
      "image/png": "[encoded data removed]",
      "text/plain": [
       "<matplotlib.figure.Figure at 0x2b7d99948850>"
      ]
     },
     "metadata": {},
     "output_type": "display_data"
    }
   ],
   "source": [
    "plt.style.use('~/.config/matplotlib/stylelib/paper.mplstyle')\n",
    "\n",
    "figname = \"imgs/ni\"\n",
    "\n",
    "m = 1.5\n",
    "figsize = (7.*m,2.5*m) # increase figure size to make things look smaller\n",
    "dpi = 100 # increase dpi to make things look bigger BUT only here\n",
    "# since i'm doing pdf, it really doesn't matter what dpi I choose\n",
    "capsize=3\n",
    "\n",
    "# plt.rc('lines',markersize=8)\n",
    "# plt.rc('font',family='sans-serif')\n",
    "# plt.rc('font',sans-serif=\"Helvetica\")\n",
    "plt.rcParams.update({\n",
    "    'font.family' : 'sans-serif',\n",
    "    'font.sans-serif' : ['Helvetica'],\n",
    "    'lines.markersize' : 8,\n",
    "    'legend.fontsize' : 10,\n",
    "    'lines.markeredgewidth' : 0.5,\n",
    "    'font.size' : 11,\n",
    "    'axes.titlesize' : 11,\n",
    "    'axes.labelsize' : 11,\n",
    "    'xtick.labelsize' : 9,\n",
    "    'ytick.labelsize' : 9,\n",
    "    })\n",
    "# plt.rc('legend', fontsize=10)\n",
    "f, ax = plt.subplots(1,3,figsize=figsize,dpi=dpi)\n",
    "\n",
    "# Data for NI plot\n",
    "Ns = [20,24,28]\n",
    "fnames = {20:\"edge.dat\",24:\"edge_2.dat\",28:\"edge_3.dat\"}\n",
    "legends = {20:[r'$\\nu_0$',r'$\\nu_1$'],\n",
    "           24:[r'$\\nu_0$',r'$\\nu_1$'],\n",
    "           28:[r'$\\nu_0$',r'$\\nu_1$']}\n",
    "fmts = {20:['-','-'],\n",
    "        24:['-','-'],\n",
    "        28:['-','-']}\n",
    "markers = ['s','s','v','^','s','s']\n",
    "colors = ['r','g','b']\n",
    "mev = 1\n",
    "m = 0\n",
    "axlist = []\n",
    "Ns = [20,24,28]\n",
    "dxrho = 0.\n",
    "for n in Ns:\n",
    "    fin = open(fnames[n],'r')\n",
    "    x_c = 0.\n",
    "    xedge,xrho,avg0,std0,avg1,std1,Lvar = [],[],[],[],[],[],[]\n",
    "    for line in fin:\n",
    "        if line == \"\\n\":\n",
    "            x_c = float(fin.next())\n",
    "            fin.close()\n",
    "            break\n",
    "        l = [float(_) for _ in line.split()]\n",
    "        xedge.append(l[0])\n",
    "        xrho.append(l[1])\n",
    "        avg0.append(l[2])\n",
    "        std0.append(l[3])\n",
    "        avg1.append(l[4])\n",
    "        std1.append(l[5])\n",
    "        Lvar.append(l[7])\n",
    "\n",
    "    # plt.rc('axes', labelsize=16)\n",
    "\n",
    "    min0,max0,min1,max1=[],[],[],[]\n",
    "    for i in range(len(xrho)):\n",
    "        min0.append(avg0[i]-std0[i])\n",
    "        max0.append(avg0[i]+std0[i])\n",
    "        min1.append(avg1[i]-std1[i])\n",
    "        max1.append(avg1[i]+std1[i])\n",
    "\n",
    "    alph = 1.0\n",
    "    \n",
    "    a = ax[m].errorbar(xrho, avg0, yerr=std0, fmt=fmts[n][0], marker=markers[4], \n",
    "                color='k', label=legends[n][0], markevery=mev, alpha=alph,mfc=\"red\",\n",
    "                errorevery=mev,zorder=2)\n",
    "    axlist.append(a)\n",
    "    a = ax[m].errorbar(xrho, avg1, yerr=std1, fmt=fmts[n][1], marker=markers[5], \n",
    "                color='k', label=legends[n][1], markevery=mev, alpha=alph,mfc=\"white\",\n",
    "                errorevery=mev,zorder=2)\n",
    "    axlist.append(a)\n",
    "\n",
    "    axtwin = ax[m].twinx()\n",
    "    maxL = max(Lvar)\n",
    "    Ls = [l/maxL for l in Lvar]\n",
    "    a = axtwin.plot(xrho, Ls, 'o', markevery=mev, mec=\"lightblue\",mfc=\"w\",fillstyle=\"none\",\\\n",
    "                    label=r'$\\Lambda$',zorder=1)\n",
    "    axtwin.axvspan(x_c,16.,color=\"whitesmoke\")\n",
    "    axtwin.set_yticks([0,0.5,1.0])\n",
    "    axtwin.set_ylim(0,1.)\n",
    "    \n",
    "    ax[m].set_zorder(axtwin.get_zorder()+1) # put ax in front of ax2\n",
    "    ax[m].patch.set_visible(False) # hide the 'canvas' \n",
    "    axlist.append(a)\n",
    "    \n",
    "    ylims = ax[m].get_ylim()\n",
    "    marg = ax[m].margins() \n",
    "    # plt.plot([x_c, x_c], [ylims[0],ylims[1]], color=\"k\", linestyle='-') \n",
    "    if n==24: alph = 1.0\n",
    "    if n==20: alph = 1.0\n",
    "    if n==28: alph = 1.0\n",
    "    dxrho = xrho[1] - xrho[0]\n",
    "    # pts 8 to 16 inclusive should be sent to get_xc\n",
    "    pts = []\n",
    "    for i in range(9,13): #9,13 is great\n",
    "        pts.append((xrho[i],avg0[i]))\n",
    "    x_c = get_xc(pts)\n",
    "    print n, x_c-dxrho, x_c, x_c+dxrho\n",
    "    \n",
    "    # To add division line\n",
    "    #ax[m].axvline(x_c,color='k',linestyle=fmts[n][1],alpha=0.8)\n",
    "    #ax[m].axvspan(x_c-dxrho,x_c+dxrho,color='k',linestyle=fmts[n][1],alpha=0.2)\n",
    "    \n",
    "#     ax[m].legend()\n",
    "\n",
    "    m+=1\n",
    "\n",
    "for a in ax:\n",
    "    handles, labels = a.get_legend_handles_labels()\n",
    "    handles = [h[0] if isinstance(h, container.ErrorbarContainer) else h for h in handles]\n",
    "\n",
    "    #a.legend(handles, labels)\n",
    "\n",
    "# ax[1].legend(handles,labels,ncol=2,loc='lower right')\n",
    "\n",
    "ax[0].set_xlabel(r'$\\rho$')\n",
    "ax[1].set_xlabel(r'$\\rho$')\n",
    "ax[2].set_xlabel(r'$\\rho$')\n",
    "# ax[0].set_ylabel(r'$\\nu$')\n",
    "    \n",
    "# plt.legend(handles=[axlist[0],axlist[2],axlist[4],axlist[1],axlist[3],axlist[5]],ncol=2)\n",
    "for A in ax:\n",
    "    _ = A.set_xticks(np.arange(4,17,2))\n",
    "    _ = A.set_xlim(4,16)\n",
    "    _ = A.set_ylim(ymax=1.,ymin=-0.)\n",
    "    _ = A.set_yticks(np.linspace(0.,1.,6))\n",
    "    A.tick_params(axis='both',which='both',direction='in')\n",
    "    A.minorticks_on()\n",
    "    A.text(3.2,1.04,r'$\\bar{\\nu}$',horizontalalignment='center')\n",
    "    A.text(5.4,1.04,\"iso\",horizontalalignment='center')\n",
    "    A.text(11.4,1.04,\"nem\",horizontalalignment='center')\n",
    "    A.text(16.9,1.04,r'$\\sigma^2$',horizontalalignment='center')\n",
    "\n",
    "ax[0].text(.84,.8,'(a)',transform=ax[0].transAxes)\n",
    "ax[1].text(.84,.8,'(b)',transform=ax[1].transAxes)\n",
    "ax[2].text(.84,.8,'(c)',transform=ax[2].transAxes)\n",
    "    \n",
    "# _ = ax[1].set_yticklabels([])\n",
    "# _ = ax[2].set_yticklabels([])\n",
    "f.subplots_adjust(wspace=0.35)\n",
    "\n",
    "# plt.gcf().set_size_inches(5,3)"
   ]
  },
  {
   "cell_type": "code",
   "execution_count": 17,
   "metadata": {},
   "outputs": [
    {
     "name": "stdout",
     "output_type": "stream",
     "text": [
      "You want to save imgs/ni_row?\n",
      "Saving fig\n"
     ]
    }
   ],
   "source": [
    "figname = \"imgs/ni_row\"\n",
    "ans = raw_input(\"You want to save \"+figname+\"?\")\n",
    "if ans != \"no\":\n",
    "    print \"Saving fig\"\n",
    "#     f.savefig(figname+\".eps\",bbox_inches='tight',dpi=\"figure\")    \n",
    "    f.savefig(figname+\".eps\",bbox_inches='tight',dpi=1000)"
   ]
  },
  {
   "cell_type": "code",
   "execution_count": 137,
   "metadata": {
    "collapsed": true
   },
   "outputs": [],
   "source": [
    "nplt = 5\n",
    "legnames = [\"avg.\",\"X\",\"T\",\"U\",\"D\"]\n",
    "figname = \"xtud-acc\"\n",
    "\n",
    "markers = ['','x','+','v','d']\n",
    "# markers = [(0,3,0),(3,0,0),(4,0,0),(3,1,45),(4,1,45)]\n",
    "\n",
    "ncol = 4\n",
    "alph = 1.0\n",
    "colors = [(0.,0.8*(1.-(float(x)/ncol)),0.4+0.6*(float(x)/ncol),0.5) for x in range(ncol)]\n",
    "colors = [(0,0,0,alph) for _ in range(ncol)]\n",
    "colors = [(0.9,0.1,0.)] + colors\n",
    "\n",
    "coldict,markdict,legdict = {},{},{}\n",
    "for i in range(nplt):\n",
    "    n = legnames[i]\n",
    "    coldict.update({n:colors[i]})\n",
    "    markdict.update({n:markers[i]})\n",
    "    legdict.update({n:legnames[i]})"
   ]
  },
  {
   "cell_type": "code",
   "execution_count": 160,
   "metadata": {},
   "outputs": [
    {
     "data": {
      "image/png": "[encoded data removed]",
      "text/plain": [
       "<matplotlib.figure.Figure at 0x2aade986efd0>"
      ]
     },
     "metadata": {},
     "output_type": "display_data"
    }
   ],
   "source": [
    "# [epoch trnloss trnacc testloss testacc xacc tacc uacc dacc]\n",
    "plt.style.use('~/.config/matplotlib/stylelib/paper.mplstyle')\n",
    "\n",
    "f, ax = plt.subplots(1,1)\n",
    "i = 7\n",
    "# plt.rc('lines',markersize=5)\n",
    "mev = 2\n",
    "\n",
    "run = fnames[0]\n",
    "for leg in reversed(legnames):\n",
    "    if i==3:\n",
    "        alph=0.\n",
    "        lsty = \"--\"\n",
    "        lthic = 3\n",
    "    else:\n",
    "        alph=0.08\n",
    "        lsty = \"-\"\n",
    "        lthic = 1\n",
    "        \n",
    "        \n",
    "    \n",
    "    nepoch = params[run][\"nepoch\"]\n",
    "    x = np.arange(1,nepoch+1,nepoch//(len(means[run])))\n",
    "    end = len(x)//2 #-1 for all\n",
    "    \n",
    "    y = means[run][:,i]\n",
    "    ym = means[run][:,i]-stds[run][:,i]\n",
    "    yp = means[run][:,i]+stds[run][:,i]\n",
    "    \n",
    "    ax0, = ax.plot(x[0:end:mev],y[0:end:mev],color=coldict[leg],\n",
    "                   marker=markdict[leg],label=legdict[leg],\n",
    "                   linestyle=lsty,linewidth=lthic)\n",
    "    mev=2\n",
    "#     ax.fill_between(x[0:end:mev],ym[0:end:mev],yp[0:end:mev],color=coldict[leg],alpha=alph)\n",
    "\n",
    "    i-=1\n",
    "    \n",
    "ax.legend(ncol=2,loc='lower right')\n",
    "\n",
    "ax.set_xlabel(\"Epoch\")\n",
    "ax.set_ylabel(\"Accuracy\")\n",
    "_ = ax.set_xticks(np.arange(0,101,20))\n",
    "_ = ax.set_xlim(0,96)\n",
    "_ = ax.set_ylim(ymax=1.1,ymin=-0.)\n",
    "# _ = A.set_yticks(np.linspace(0.,1.,6))\n",
    "ax.tick_params(axis='both',which='both',direction='in')\n",
    "ax.minorticks_on()"
   ]
  },
  {
   "cell_type": "code",
   "execution_count": 161,
   "metadata": {},
   "outputs": [
    {
     "name": "stdout",
     "output_type": "stream",
     "text": [
      "You want to save imgs/xtud-acc_2?\n",
      "Saving fig\n"
     ]
    }
   ],
   "source": [
    "figname = \"imgs/xtud-acc_2\"\n",
    "ans = raw_input(\"You want to save \"+figname+\"?\")\n",
    "if ans != \"no\":\n",
    "    print \"Saving fig\"\n",
    "    f.savefig(figname+\".eps\",bbox_inches='tight',dpi=\"figure\")"
   ]
  }
 ],
 "metadata": {
  "kernelspec": {
   "display_name": "Python 2",
   "language": "python",
   "name": "python2"
  },
  "language_info": {
   "codemirror_mode": {
    "name": "ipython",
    "version": 2
   },
   "file_extension": ".py",
   "mimetype": "text/x-python",
   "name": "python",
   "nbconvert_exporter": "python",
   "pygments_lexer": "ipython2",
   "version": "2.7.13"
  }
 },
 "nbformat": 4,
 "nbformat_minor": 2
}
