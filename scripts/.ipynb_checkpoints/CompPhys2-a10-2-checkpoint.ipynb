{
 "cells": [
  {
   "cell_type": "markdown",
   "metadata": {},
   "source": [
    "<img src=\"http://www.science.uwaterloo.ca/~odonovan/2018W-phys239/pendulum.png\" align=right width=200 border=50>\n",
    "\n",
    "\n",
    "## Pendula\n",
    "\n",
    "Consider first the simple pendulum (see figure, left). Newton's second law (N2L) says that the three vectors in the free body diagram (FBD) obey the equation (see figure, right)\n",
    "$$\n",
    "    m\\ddot{\\vec{r}} \n",
    "    = m\\vec{g} + \\vec{F}_\\text{T}.\n",
    "$$\n",
    "\n",
    "This problem is easiest to solve using polar coordinates, $\\{r,\\theta\\}$, because the length of the position vector of the bob is a constant, $|\\vec{r}|=\\ell$. \n",
    "\n",
    "In terms of the Cartesian basis vectors, the polar basis vectors are rotated by angle $\\theta$:\n",
    "$$\n",
    "    \\begin{bmatrix}\n",
    "        \\hat{\\theta} \\\\ \n",
    "        \\hat{r}\n",
    "    \\end{bmatrix}\n",
    "    =\n",
    "    \\begin{bmatrix}\n",
    "        \\cos\\theta & -\\sin\\theta \\\\ \n",
    "        \\sin\\theta & \\cos\\theta\n",
    "    \\end{bmatrix}\n",
    "    \\begin{bmatrix}\n",
    "        \\hat{x} \\\\ \n",
    "        \\hat{y}\n",
    "    \\end{bmatrix}.\n",
    "$$\n",
    "Because $\\theta=\\theta(t)$ they have time derivatives,\n",
    "\\begin{align*}\n",
    "    \\dot{\\hat{\\theta}} \n",
    "    &= (-\\hat{x}\\,\\sin\\theta - \\hat{y}\\,\\cos\\theta)\\dot{\\theta}\n",
    "    =  -\\hat{r}\\,\\dot{\\theta}\n",
    "\\\\\n",
    "    \\dot{\\hat{r}} \n",
    "    &= (\\hat{x}\\,\\cos\\theta - \\hat{y}\\,\\sin\\theta)\\dot{\\theta}\n",
    "    = \\hat{\\theta}\\,\\dot{\\theta}\n",
    "\\end{align*}\n",
    "The polar basis vectors are very much **not** time-independent vectors; this is a common source of error.\n",
    "\n",
    "In the polar basis I have\n",
    "\\begin{align*}\n",
    "    \\vec{r} &= \\ell \\hat{r}\n",
    "    \\\\\n",
    "    \\vec{F}_\\text{T} &= -F_\\text{T}\\hat{r}\n",
    "    \\\\\n",
    "    m\\vec{g} &= \\hat{y}\\,mg \n",
    "    = (\\hat{r}\\,\\cos\\theta - \\hat{\\theta}\\,\\sin\\theta) mg,\n",
    "\\end{align*}\n",
    "and the velocity and acceleration are\n",
    "\\begin{align*}\n",
    "    \\dot{\\vec{r}} &= \\ell \\dot{\\hat{r}} = \\hat{\\theta}\\,\\dot{\\theta}\\ell \n",
    "    \\\\\n",
    "    \\ddot{\\vec{r}} &= \\dot{\\hat{\\theta}}\\,\\dot{\\theta}\\ell \n",
    "    + \\hat{\\theta}\\,\\ddot{\\theta}\\ell \n",
    "    = - \\hat{r}\\,\\dot{\\theta}^2 \\ell\n",
    "    + \\hat{\\theta}\\,\\ddot{\\theta}\\ell.\n",
    "\\end{align*}\n",
    "\n",
    "N2L in this basis is then\n",
    "\\begin{align*}\n",
    "    - \\hat{r}\\,\\dot{\\theta}^2 m\\ell\n",
    "    + \\hat{\\theta}\\,\\ddot{\\theta}m\\ell\n",
    "    &=\n",
    "    (\\hat{r}\\,\\cos\\theta - \\hat{\\theta}\\,\\sin\\theta) mg\n",
    "    -F_\\text{T}\\hat{r}\n",
    "    \\\\\n",
    "    \\Rightarrow\\quad\n",
    "    -\\dot{\\theta}^2 m\\ell\n",
    "    &=\n",
    "    mg\\cos\\theta -F_\\text{T}\n",
    "    \\\\\n",
    "    \\&\\quad\n",
    "    \\ddot{\\theta}m\\ell\n",
    "    &=\n",
    "    -mg \\sin\\theta.\n",
    "\\end{align*}\n",
    "\n",
    "While both equations are valid we only need to worry about the second,\n",
    "$$\n",
    "   \\ddot{\\theta} = -\\frac{g}{\\ell} \\sin\\theta,\n",
    "$$\n",
    "in order to calculate the trajectory of the pendulum (this is exactly why we have chosen to use polar basis vectors for this problem -- the extra trouble of having non-constant basis vectors results in a single equation of motion (EoM)).\n",
    "\n",
    "As a footnote, this last equation is better understood as\n",
    "$$\n",
    "    I \\ddot{\\theta} = \\vec{r} \\times m\\vec{g},\n",
    "$$\n",
    "where $I\\equiv m\\ell^2$ is the moment of inertia of the bob and $\\vec{r} \\times m\\vec{g}=- mg\\ell\\sin\\theta$ is the torque due to gravity on the bob. This is the rotational form of N2L and we could have started from this expression."
   ]
  },
  {
   "cell_type": "code",
   "execution_count": 2,
   "metadata": {
    "collapsed": true
   },
   "outputs": [],
   "source": [
    "# no need to change anything in this cell\n",
    "\n",
    "%matplotlib inline\n",
    "from math import pi\n",
    "from scipy.integrate import odeint  # integrates a system of ODEs\n",
    "import numpy as np\n",
    "import matplotlib.pyplot as plt\n",
    "# change some of the defaults for plots\n",
    "plt.rcParams['text.usetex'] = True\n",
    "plt.rcParams['axes.grid'] = True\n",
    "plt.rcParams['figure.figsize'] = [12,6]\n",
    "plt.rcParams['axes.labelsize'] = 16\n",
    "plt.rcParams['legend.fontsize'] = 16\n",
    "plt.rcParams['xtick.labelsize'] = 14\n",
    "plt.rcParams['ytick.labelsize'] = 14\n",
    "from IPython.display import display, Markdown, Latex, Math, Pretty\n",
    "\n",
    "############################ constants\n",
    "m = 1                      # mass\n",
    "ell = 1                    # length\n",
    "g = 10                     # free-fall acceleration\n",
    "Omega = np.sqrt( g / ell ) # natural frequency\n",
    "N = 100                    # number of time steps per period\n",
    "n = 10                     # number of periods\n",
    "############################ calculated constants\n",
    "T = 2*pi/Omega             # period\n",
    "dT = T / N                 # time step\n",
    "t = np.arange(0,n*T,dT)    # times, $t_i, i=0...nN-1$"
   ]
  },
  {
   "cell_type": "markdown",
   "metadata": {},
   "source": [
    "### (a) Simple Pendulum\n",
    "\n",
    "Use `scipy.integrate.odeint()` to calculate the trajectories (i.e. $\\theta(t)$) of a simple pendulum (mass $m$ and length $\\ell$) for a bob that starts at $\\theta=0$ but with initial angular velocities $\\dot{\\theta}=n\\omega$ where $n\\in\\{\\mathbb{Z} \\mid 0\\le 2n \\le 6\\}$; plot the resulting phase space trajectories, $\\dot{\\theta}(\\theta)$.\n",
    "\n",
    "(**Hint**: Use `np.linspace(0,3,7)` for your loop and use the state vector method we used earlier in the term with \n",
    "$$\n",
    "    \\vec{\\psi}= \n",
    "        \\bigl[\\begin{smallmatrix}\n",
    "        \\theta \\\\ \n",
    "        \\dot{\\theta}\n",
    "    \\end{smallmatrix} \\bigr]\n",
    "$$\n",
    "as the state vector.)\n",
    "\n",
    "(**Warning**: Do not be confused by the fact that $\\Omega$ and $\\dot{\\theta}$ have dimensions of radians/second. The first is the natural frequency of the pendulum (a constant) and the second is the angular velocity of the pendulum (the time derivative of the angular position of the pendulum, definitely not a constant)."
   ]
  },
  {
   "cell_type": "code",
   "execution_count": 6,
   "metadata": {},
   "outputs": [
    {
     "data": {
      "text/plain": [
       "[0, 2, -4, 4]"
      ]
     },
     "execution_count": 6,
     "metadata": {},
     "output_type": "execute_result"
    },
    {
     "data": {
      "image/png": "[encoded data removed]",
      "text/plain": [
       "<matplotlib.figure.Figure at 0x7ff8435aa630>"
      ]
     },
     "metadata": {},
     "output_type": "display_data"
    }
   ],
   "source": [
    "################################# time derivative of the state vector\n",
    "def psidot1( psi, t ) :          # returns $\\dot{\\vec{\\psi}}$\n",
    "    return psi\n",
    "\n",
    "fig = plt.figure()\n",
    "ax1 = fig.add_subplot( 1, 2, 1 )  # for $\\theta(t)$\n",
    "ax2 = fig.add_subplot( 1, 2, 2 )  # for $\\dot{\\theta}(\\theta)$\n",
    "\n",
    "for i in np.linspace( 0, 3, 7 ) :\n",
    "    label = r'$\\dot{\\theta}_o=%+.1f\\,\\Omega$'%(i)\n",
    "    ax1.plot( [0,n],[0,2] )\n",
    "    ax2.plot( [0,1],[0,2],  label=label )\n",
    "\n",
    "# make it pretty\n",
    "ax1.set_xlabel( r'$t/T$' )\n",
    "ax1.set_ylabel( r'$\\theta/\\pi$' )\n",
    "ax1.grid( 'on' )\n",
    "ax1.set_xlim( 0, n )\n",
    "ax1.set_ylim( -4, 4 )\n",
    "\n",
    "\n",
    "ax2.set_xlabel( r'$\\theta/\\pi$' )\n",
    "ax2.set_ylabel( r'$\\dot{\\theta}/\\Omega$' )\n",
    "ax2.grid( 'on' )\n",
    "ax2.legend( loc=4 )\n",
    "ax2.axis( [ 0, 2, -4, 4 ] )\n"
   ]
  },
  {
   "cell_type": "markdown",
   "metadata": {},
   "source": [
    "### (b) Separatrix\n",
    "\n",
    "Describe the motion for $\\dot{\\theta}_o<2\\Omega$ and for $\\dot{\\theta}_o>2\\Omega$. In particular, how do they differ? Refer explicitely to the phase space plot."
   ]
  },
  {
   "cell_type": "markdown",
   "metadata": {},
   "source": [
    "$E=mc^2$"
   ]
  },
  {
   "cell_type": "markdown",
   "metadata": {},
   "source": [
    "### (c) Damped, Driven Pendulum\n",
    "\n",
    "\n",
    "We now add two new forces, a sinusoidal driving torque, $N_\\text{D} \\sin(\\omega t)$, and a frictional torque proportional to the angular velocity, $b\\dot{\\theta}$, giving the EoM:\n",
    "$$\n",
    "    m\\ell^2 \\ddot{\\theta} \n",
    "    =\n",
    "    -mg\\ell \\sin\\theta \n",
    "    -b\\dot{\\theta}\n",
    "    + N_\\text{D} \\cos(\\omega t),\n",
    "$$\n",
    "or\n",
    "$$\n",
    "    \\ddot{\\theta} \n",
    "    =\n",
    "    -\\Omega^2 \\sin\\theta \n",
    "    -2\\beta\\dot{\\theta}\n",
    "    + f \\cos(\\omega t),\n",
    "$$\n",
    "where\n",
    "\\begin{align*}\n",
    "    \\Omega &\\equiv \\sqrt{g/\\ell},\n",
    "    \\\\\n",
    "    \\beta &\\equiv b/2m\\ell^2,\n",
    "    \\\\\n",
    "    f &\\equiv N_\\text{D}/m\\ell^2,\n",
    "\\end{align*}\n",
    "along with the driving frequency, $\\omega$, each have units of angular frequency.\n",
    "\n",
    "Assume the oscillator starts at rest at the equilibrium position and take the damping as $\\beta=0.1\\Omega$ and the driving strength as $f=0.5\\Omega$.\n",
    "\n",
    "Calculate and plot $\\theta(t), 0\\le t\\le 20T$ for five values of the driving frequency $\\omega$ between zero and $0.5\\Omega$. On a separate plot graph the phase space plot, $\\dot{\\theta}(\\theta)$."
   ]
  },
  {
   "cell_type": "code",
   "execution_count": 5,
   "metadata": {},
   "outputs": [
    {
     "data": {
      "image/png": "[encoded data removed]",
      "text/plain": [
       "<matplotlib.figure.Figure at 0x7ff8ecee2c50>"
      ]
     },
     "metadata": {},
     "output_type": "display_data"
    }
   ],
   "source": [
    "n = 20                     # number of periods\n",
    "############################ calculated constants\n",
    "beta = 0.01 * Omega\n",
    "f = 2 * Omega\n",
    "t = np.linspace( 0, n*T, n*N)\n",
    "# start at equilibrium postion and at rest\n",
    "psi0 = np.array( [0, 0] )\n",
    "\n",
    "################################# time derivative of the state vector\n",
    "def psidot2( psi, t ) :         # returns $\\dot{\\vec{\\psi}}$\n",
    "    return psi\n",
    "\n",
    "fig = plt.figure()\n",
    "ax1 = fig.add_subplot( 1, 2, 1 )\n",
    "ax2 = fig.add_subplot( 1, 2, 2 )\n",
    "\n",
    "for i in np.linspace( 0.0, 0.50, 5 ) :\n",
    "\n",
    "    label = r'$\\omega=%+.3f\\,\\Omega$'%(i)\n",
    "    ax1.plot( [0,n],[0,2],  label=label )\n",
    "    ax2.plot( [0,1],[0,2] )\n",
    "\n",
    "# make it pretty\n",
    "ax1.set_xlabel( r'$t/T$' )\n",
    "ax1.set_ylabel( r'$\\theta/\\pi$' )\n",
    "ax1.grid( 'on' )\n",
    "ax1.legend( loc=3 )\n",
    "ax1.set_xlim( 0, n )\n",
    "\n",
    "ax2.set_xlabel( r'$\\theta/\\pi$' )\n",
    "ax2.set_ylabel( r'$\\dot{\\theta}/\\Omega$' )\n",
    "ax2.grid( 'on' )\n"
   ]
  },
  {
   "cell_type": "markdown",
   "metadata": {},
   "source": [
    "#### (d) Chaos\n",
    "\n",
    "You should have found chaotic motion as the driving frequency approached the natural frequency of the system (i.e. $\\omega \\approx \\Omega$).\n",
    "\n",
    "Calculate, once again, $\\theta(t)$ for driving frequencies $\\omega\\in\\{0.6\\Omega, 0.60001\\Omega\\}$ and plot the difference of the two angles as a function of time (i.e. $\\Delta\\theta\\equiv\\theta_2(t)-\\theta_1(t)$ versus $t$) for $0\\le t\\le 1000T$.\n",
    "\n",
    "You should observe a sensitivity to initial conditions that is a signature of chaos."
   ]
  },
  {
   "cell_type": "code",
   "execution_count": 7,
   "metadata": {},
   "outputs": [
    {
     "data": {
      "text/plain": [
       "<matplotlib.text.Text at 0x7ff8ecca5208>"
      ]
     },
     "execution_count": 7,
     "metadata": {},
     "output_type": "execute_result"
    },
    {
     "data": {
      "image/png": "[encoded data removed]",
      "text/plain": [
       "<matplotlib.figure.Figure at 0x7ff908390dd8>"
      ]
     },
     "metadata": {},
     "output_type": "display_data"
    }
   ],
   "source": [
    "n = 1000                     # number of periods\n",
    "t = np.linspace( 0, n*T, n*N)\n",
    "\n",
    "fig = plt.figure()\n",
    "ax = fig.add_subplot(1,1,1)\n",
    "ax.plot( [0,n],[0,1] )\n",
    "ax.set_xlabel( '$t/T' )\n",
    "ax.set_ylabel( r'$\\Delta\\theta/\\pi$')"
   ]
  },
  {
   "cell_type": "code",
   "execution_count": null,
   "metadata": {
    "collapsed": true
   },
   "outputs": [],
   "source": []
  }
 ],
 "metadata": {
  "kernelspec": {
   "display_name": "Python 2",
   "language": "python",
   "name": "python2"
  },
  "language_info": {
   "codemirror_mode": {
    "name": "ipython",
    "version": 2
   },
   "file_extension": ".py",
   "mimetype": "text/x-python",
   "name": "python",
   "nbconvert_exporter": "python",
   "pygments_lexer": "ipython2",
   "version": "2.7.13"
  }
 },
 "nbformat": 4,
 "nbformat_minor": 2
}
