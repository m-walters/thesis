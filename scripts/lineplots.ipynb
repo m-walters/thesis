{
 "cells": [
  {
   "cell_type": "code",
   "execution_count": 43,
   "metadata": {},
   "outputs": [],
   "source": [
    "import numpy as np\n",
    "from matplotlib import pyplot as plt\n",
    "from matplotlib import colors as pltcols\n",
    "plt.style.use('~/.config/matplotlib/stylelib/paper.mplstyle')\n",
    "\n",
    "%matplotlib inline"
   ]
  },
  {
   "cell_type": "code",
   "execution_count": 38,
   "metadata": {},
   "outputs": [
    {
     "name": "stdout",
     "output_type": "stream",
     "text": [
      "[ 0.64  0.68  0.72]\n"
     ]
    }
   ],
   "source": [
    "f = np.asarray((0.1,0.2,0.3))\n",
    "g = (1-0.4) + f*0.4\n",
    "print g"
   ]
  },
  {
   "cell_type": "code",
   "execution_count": 50,
   "metadata": {
    "collapsed": true
   },
   "outputs": [],
   "source": [
    "def rgba2rgb(c):\n",
    "    # c is (r,g,b,a) tuple\n",
    "    # note this is for opaque white background\n",
    "    # for more complex things reference \n",
    "    # https://stackoverflow.com/questions/2049230/convert-rgba-color-to-rgb?rq=1y%\n",
    "    c2 = np.asarray(c[:-1])\n",
    "    alph = c[-1]\n",
    "    c2 = (1.-alph) + c2*alph\n",
    "    return tuple(c2)"
   ]
  },
  {
   "cell_type": "code",
   "execution_count": 5,
   "metadata": {},
   "outputs": [],
   "source": [
    "import seaborn as sns\n",
    "import itertools\n",
    "sns.set()\n",
    "sns.set_palette(\"Spectral\",10)\n",
    "sns.set_style(\"white\")\n",
    "S = sns.set_style(\"ticks\",{\"xtick.major.size\":0.8,\"ytick.major.size\":0.8})\n",
    "sns.set_style({\"xtick.direction\": \"in\",\"ytick.direction\": \"in\"})\n",
    "palette = itertools.cycle(sns.color_palette())\n"
   ]
  },
  {
   "cell_type": "code",
   "execution_count": 6,
   "metadata": {},
   "outputs": [
    {
     "data": {
      "image/png": "[encoded data removed]",
      "text/plain": [
       "<Figure size 720x72 with 1 Axes>"
      ]
     },
     "metadata": {},
     "output_type": "display_data"
    }
   ],
   "source": [
    "st = \"pastel\"\n",
    "sns.set_palette(st)\n",
    "pal = sns.color_palette(st,10)\n",
    "palette = itertools.cycle(pal)\n",
    "# next(palette)\n",
    "sns.palplot(pal)"
   ]
  },
  {
   "cell_type": "code",
   "execution_count": 7,
   "metadata": {},
   "outputs": [],
   "source": [
    "collist = []\n",
    "alpha=0.5\n",
    "for i in range(len(pal)):\n",
    "    collist.append(next(palette)+(alpha,))"
   ]
  },
  {
   "cell_type": "code",
   "execution_count": 51,
   "metadata": {
    "collapsed": true
   },
   "outputs": [],
   "source": [
    "alpha = 0.3\n",
    "collist = [\n",
    "    pltcols.to_rgb(\"limegreen\")+(alpha,),\n",
    "    pltcols.to_rgb(\"red\")+(alpha,)\n",
    "]\n",
    "collist_conv = [rgba2rgb(c) for c in collist]"
   ]
  },
  {
   "cell_type": "code",
   "execution_count": 52,
   "metadata": {},
   "outputs": [
    {
     "name": "stdout",
     "output_type": "stream",
     "text": [
      "[(0.19607843137254902, 0.803921568627451, 0.19607843137254902, 0.3), (1.0, 0.0, 0.0, 0.3)]\n",
      "[(0.75882352941176467, 0.94117647058823528, 0.75882352941176467), (1.0, 0.69999999999999996, 0.69999999999999996)]\n"
     ]
    }
   ],
   "source": [
    "print collist\n",
    "print collist_conv"
   ]
  },
  {
   "cell_type": "code",
   "execution_count": 44,
   "metadata": {},
   "outputs": [
    {
     "data": {
      "text/plain": [
       "(0.19607843137254902, 0.803921568627451, 0.19607843137254902)"
      ]
     },
     "execution_count": 44,
     "metadata": {},
     "output_type": "execute_result"
    }
   ],
   "source": [
    "pltcols.to_rgb(\"limegreen\")"
   ]
  },
  {
   "cell_type": "code",
   "execution_count": 53,
   "metadata": {},
   "outputs": [
    {
     "data": {
      "image/png": "[encoded data removed]",
      "text/plain": [
       "<Figure size 360x216 with 1 Axes>"
      ]
     },
     "metadata": {},
     "output_type": "display_data"
    }
   ],
   "source": [
    "f,ax = plt.subplots(1,1,figsize=(5,3))\n",
    "\n",
    "x = np.linspace(-0.2,2,1000)\n",
    "y = np.exp(-x)\n",
    "ax.plot(x,y,'-',color='k',linewidth=1)\n",
    "\n",
    "ymax = 1.2\n",
    "ax.plot([0,0],[0,ymax],'-k')\n",
    "ax.plot([x[0],x[-1]],[1,1],'-k')\n",
    "\n",
    "ax.axis([x[0],x[-1],0,ymax])\n",
    "ax.set_yticks([0,1.0])\n",
    "ax.set_xticks(np.arange(0,2.1,0.4))\n",
    "\n",
    "ax.fill_between(x, y, where=x>0, interpolate=True, color=collist_conv[0]) # accept\n",
    "ax.fill_between(x, np.ones(1000), y, where=x>0, interpolate=True, color=collist_conv[1]) # reject\n",
    "ax.fill_between(x, 2, where=x<0, interpolate=True, color='whitesmoke')\n",
    "ax.fill_between(x,np.ones(1000)*2,np.ones(1000), where=x>0, interpolate=True, color='whitesmoke')\n",
    "\n",
    "ax.set_xlabel(r'$\\Delta E/k_BT$')\n",
    "ax.set_ylabel(r'$\\frac{p_\\Gamma(t+1)}{p_\\Gamma(t)}$',rotation=0,labelpad=30,fontsize=20)\n",
    "\n",
    "_=ax.text(0.3,0.2,s=r'accept',fontsize=14)\n",
    "_=ax.text(1.3,0.6,s=r'reject',fontsize=14)"
   ]
  },
  {
   "cell_type": "code",
   "execution_count": 55,
   "metadata": {},
   "outputs": [
    {
     "name": "stdout",
     "output_type": "stream",
     "text": [
      "You want to save mc_accrej?\n",
      "Saving fig\n"
     ]
    }
   ],
   "source": [
    "figname = \"mc_accrej\"\n",
    "ans = raw_input(\"You want to save \"+figname+\"?\")\n",
    "if ans != \"no\":\n",
    "    print \"Saving fig\"\n",
    "    f.savefig(\"../doc/figs/\"+figname+\".eps\",bbox_inches='tight',dpi=\"figure\")"
   ]
  }
 ],
 "metadata": {
  "kernelspec": {
   "display_name": "Python 2",
   "language": "python",
   "name": "python2"
  },
  "language_info": {
   "codemirror_mode": {
    "name": "ipython",
    "version": 2
   },
   "file_extension": ".py",
   "mimetype": "text/x-python",
   "name": "python",
   "nbconvert_exporter": "python",
   "pygments_lexer": "ipython2",
   "version": "2.7.13"
  }
 },
 "nbformat": 4,
 "nbformat_minor": 2
}
